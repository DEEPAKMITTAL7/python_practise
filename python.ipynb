{
 "cells": [
  {
   "cell_type": "code",
   "execution_count": 1,
   "id": "876d6feb-c6d8-4295-9743-341bdeed4e73",
   "metadata": {},
   "outputs": [
    {
     "name": "stdout",
     "output_type": "stream",
     "text": [
      "['False', 'None', 'True', 'and', 'as', 'assert', 'async', 'await', 'break', 'class', 'continue', 'def', 'del', 'elif', 'else', 'except', 'finally', 'for', 'from', 'global', 'if', 'import', 'in', 'is', 'lambda', 'nonlocal', 'not', 'or', 'pass', 'raise', 'return', 'try', 'while', 'with', 'yield']\n"
     ]
    }
   ],
   "source": [
    "import keyword\n",
    "\n",
    "print(keyword.kwlist)"
   ]
  },
  {
   "cell_type": "code",
   "execution_count": 2,
   "id": "1d9e90e4-57d1-434c-b782-5b43a516af28",
   "metadata": {},
   "outputs": [
    {
     "name": "stdout",
     "output_type": "stream",
     "text": [
      "35\n"
     ]
    }
   ],
   "source": [
    "print(len(keyword.kwlist))"
   ]
  },
  {
   "cell_type": "code",
   "execution_count": 8,
   "id": "36e746df-71ea-4094-a594-dd43b10fc850",
   "metadata": {},
   "outputs": [
    {
     "data": {
      "text/plain": [
       "15"
      ]
     },
     "execution_count": 8,
     "metadata": {},
     "output_type": "execute_result"
    }
   ],
   "source": [
    "a = 1 + 2 + 3 + \\\n",
    "4 + 5\n",
    "a"
   ]
  },
  {
   "cell_type": "code",
   "execution_count": 11,
   "id": "02740932-70d0-4d58-9b60-de8bec9c9cd3",
   "metadata": {},
   "outputs": [
    {
     "name": "stdout",
     "output_type": "stream",
     "text": [
      "ML\n",
      "AB\n",
      "ML\n"
     ]
    }
   ],
   "source": [
    "a = b = c = \"ML\"\n",
    "\n",
    "b = \"AB\"\n",
    "\n",
    "print(a)\n",
    "print(b)\n",
    "print(c)"
   ]
  },
  {
   "cell_type": "code",
   "execution_count": 12,
   "id": "e9c6be60-d7d8-4536-9103-a882e3357501",
   "metadata": {},
   "outputs": [
    {
     "name": "stdout",
     "output_type": "stream",
     "text": [
      "8\n",
      "140721565783936\n"
     ]
    }
   ],
   "source": [
    "a = 8\n",
    "\n",
    "print(a)\n",
    "print(id(a))"
   ]
  },
  {
   "cell_type": "code",
   "execution_count": 13,
   "id": "4c9c2ac6-07bd-4c44-982e-f3486e1938c6",
   "metadata": {},
   "outputs": [
    {
     "name": "stdout",
     "output_type": "stream",
     "text": [
      "hello\n"
     ]
    }
   ],
   "source": [
    "print(\"hello\")"
   ]
  },
  {
   "cell_type": "code",
   "execution_count": 14,
   "id": "bb7b38b3-48f8-424c-92f8-9c240435bf94",
   "metadata": {},
   "outputs": [
    {
     "data": {
      "text/plain": [
       "['hellp']"
      ]
     },
     "execution_count": 14,
     "metadata": {},
     "output_type": "execute_result"
    }
   ],
   "source": [
    "\"hellp\".split()"
   ]
  },
  {
   "cell_type": "code",
   "execution_count": 15,
   "id": "94f48d5d-23fd-4fac-9797-a857c11759e6",
   "metadata": {},
   "outputs": [
    {
     "data": {
      "text/plain": [
       "['h', 'e', 'l', 'o']"
      ]
     },
     "execution_count": 15,
     "metadata": {},
     "output_type": "execute_result"
    }
   ],
   "source": [
    "list(\"helo\")"
   ]
  },
  {
   "cell_type": "code",
   "execution_count": 20,
   "id": "c36bb5f6-5bc0-40a9-9016-bebbe0833766",
   "metadata": {},
   "outputs": [
    {
     "name": "stdin",
     "output_type": "stream",
     "text": [
      "Enter the number 89\n"
     ]
    },
    {
     "data": {
      "text/plain": [
       "100"
      ]
     },
     "execution_count": 20,
     "metadata": {},
     "output_type": "execute_result"
    }
   ],
   "source": [
    "num = input(\"Enter the number\")\n",
    "int(num)+11"
   ]
  },
  {
   "cell_type": "code",
   "execution_count": 24,
   "id": "11593573-62a7-44a5-81b2-f274acec8b4d",
   "metadata": {},
   "outputs": [
    {
     "data": {
      "text/plain": [
       "False"
      ]
     },
     "execution_count": 24,
     "metadata": {},
     "output_type": "execute_result"
    }
   ],
   "source": [
    "a is c"
   ]
  },
  {
   "cell_type": "code",
   "execution_count": 25,
   "id": "49de56ef-1b7d-476d-bad1-6f4b2491cacc",
   "metadata": {},
   "outputs": [],
   "source": [
    "# filter, map and reduce functions in python are used to avoid for loops."
   ]
  },
  {
   "cell_type": "code",
   "execution_count": 26,
   "id": "411d35b7-ffa9-46de-8e90-df3f3e59626f",
   "metadata": {},
   "outputs": [],
   "source": [
    "#lets practsie one by one"
   ]
  },
  {
   "cell_type": "code",
   "execution_count": 35,
   "id": "845736d4-2e13-4151-a8d1-542581b8d319",
   "metadata": {},
   "outputs": [
    {
     "name": "stdout",
     "output_type": "stream",
     "text": [
      "[1, 2, 3]\n"
     ]
    }
   ],
   "source": [
    "# filter function works on individaul iterables and used to filter the components and returns a list\n",
    "\n",
    "def positive_numbers(num):\n",
    "    if num>0:\n",
    "        return num\n",
    "\n",
    "numbers = [-3, -2, -1, 0 , 1, 2, 3]\n",
    "positive = list(filter(positive_numbers, numbers))  # it takes one element at a time from numbers.\n",
    "print(positive)"
   ]
  },
  {
   "cell_type": "code",
   "execution_count": 38,
   "id": "4c5e322b-e72d-4a1a-bf1b-4fbad8108e22",
   "metadata": {},
   "outputs": [
    {
     "name": "stdout",
     "output_type": "stream",
     "text": [
      "[9, 4, 1, 0, 1, 4, 9]\n"
     ]
    }
   ],
   "source": [
    "# map function works on indiviadual iterables and used to create a new list out of it. \n",
    "\n",
    "def power(num):\n",
    "    return num**2\n",
    "\n",
    "numbers = [-3, -2, -1, 0 , 1, 2, 3]\n",
    "power = list(map(power, numbers))  # it takes one element at a time from numbers.\n",
    "print(power)"
   ]
  },
  {
   "cell_type": "code",
   "execution_count": 44,
   "id": "46299418-a346-429a-b3b7-f48aec1d1343",
   "metadata": {},
   "outputs": [
    {
     "name": "stdout",
     "output_type": "stream",
     "text": [
      "6\n"
     ]
    }
   ],
   "source": [
    "# reduce function works on combined iterables hence returns a sinlge iterable\n",
    "\n",
    "from functools import reduce\n",
    "\n",
    "def multiply(num1,num2):\n",
    "    return num1*num2\n",
    "    \n",
    "numbers = [1, 2, 3]\n",
    "mul = reduce(multiply, numbers)  # it takes one element at a time from numbers.\n",
    "print(mul)\n"
   ]
  },
  {
   "cell_type": "code",
   "execution_count": 50,
   "id": "a218e802-4ea3-453b-b928-59a4657f9a86",
   "metadata": {},
   "outputs": [
    {
     "data": {
      "text/plain": [
       "720"
      ]
     },
     "execution_count": 50,
     "metadata": {},
     "output_type": "execute_result"
    }
   ],
   "source": [
    "def factorial(x,y):\n",
    "    return x*y\n",
    "\n",
    "num = [1,2,3,4,5]\n",
    "fact = reduce(factorial, num)\n",
    "fact\n",
    "\n",
    "#using recurssion\n",
    "\n",
    "def facto(num):\n",
    "    return 1 if num == 1 else num * facto(num-1)\n",
    "\n",
    "facto = facto(6) \n",
    "facto"
   ]
  },
  {
   "cell_type": "code",
   "execution_count": 51,
   "id": "dc200bd4-4ef7-4e38-a176-3cd35d501bbf",
   "metadata": {},
   "outputs": [
    {
     "data": {
      "text/plain": [
       "20"
      ]
     },
     "execution_count": 51,
     "metadata": {},
     "output_type": "execute_result"
    }
   ],
   "source": [
    "double = lambda x: x*2\n",
    "double(10)"
   ]
  },
  {
   "cell_type": "code",
   "execution_count": 68,
   "id": "a260e12f-03ca-4263-a029-7aa6f2c367ae",
   "metadata": {},
   "outputs": [
    {
     "name": "stdout",
     "output_type": "stream",
     "text": [
      "[2, 4]\n",
      "[2, 4, 6, 8, 10]\n",
      "120\n"
     ]
    }
   ],
   "source": [
    "#till now we have used map, reduce and filter functions to avoid use of for loop.\n",
    "\n",
    "# these functions requires a function and iterable. now we want to remove the overhead of function defination as well, lambda will do it\n",
    "\n",
    "numers = [1,2,3,4,5]\n",
    "out = list(filter(lambda x: x%2==0, numers))\n",
    "print(out)\n",
    "\n",
    "numers = [1,2,3,4,5]\n",
    "mout = list(map(lambda x: x*2, numers))\n",
    "print(mout)\n",
    "\n",
    "from functools import reduce\n",
    "\n",
    "numers = [1,2,3,4,5]\n",
    "rout = reduce(lambda x, y: x*y, numers)\n",
    "print(rout)"
   ]
  },
  {
   "cell_type": "code",
   "execution_count": 71,
   "id": "855e3afd-c12c-4afd-ae88-c0e291082ef2",
   "metadata": {},
   "outputs": [],
   "source": [
    "f = open('example.txt', 'x')"
   ]
  },
  {
   "cell_type": "code",
   "execution_count": 72,
   "id": "f001029b-4820-45d2-97ea-54464efb68d4",
   "metadata": {},
   "outputs": [
    {
     "data": {
      "text/plain": [
       "'K:\\\\Git\\\\python_practise'"
      ]
     },
     "execution_count": 72,
     "metadata": {},
     "output_type": "execute_result"
    }
   ],
   "source": [
    "import os\n",
    "os.getcwd()"
   ]
  },
  {
   "cell_type": "code",
   "execution_count": 73,
   "id": "86289af8-5c54-482f-8dd5-5281287ea76e",
   "metadata": {},
   "outputs": [
    {
     "data": {
      "text/plain": [
       "['.git', '.ipynb_checkpoints', 'example.txt', 'python.ipynb', 'README.md']"
      ]
     },
     "execution_count": 73,
     "metadata": {},
     "output_type": "execute_result"
    }
   ],
   "source": [
    "os.listdir(os.getcwd())"
   ]
  },
  {
   "cell_type": "code",
   "execution_count": 76,
   "id": "ce3769cb-caf2-4a53-afa2-6b2fe009b87b",
   "metadata": {},
   "outputs": [
    {
     "name": "stdout",
     "output_type": "stream",
     "text": [
      "> \u001b[1;32mc:\\users\\dell\\appdata\\local\\temp\\ipykernel_16616\\2849708231.py\u001b[0m(6)\u001b[0;36mnew\u001b[1;34m()\u001b[0m\n",
      "\n"
     ]
    },
    {
     "name": "stdin",
     "output_type": "stream",
     "text": [
      "ipdb>  p locals()\n"
     ]
    },
    {
     "name": "stdout",
     "output_type": "stream",
     "text": [
      "{'n': 5, 'i': 0}\n"
     ]
    },
    {
     "name": "stdin",
     "output_type": "stream",
     "text": [
      "ipdb>  c\n"
     ]
    },
    {
     "name": "stdout",
     "output_type": "stream",
     "text": [
      "0\n",
      "> \u001b[1;32mc:\\users\\dell\\appdata\\local\\temp\\ipykernel_16616\\2849708231.py\u001b[0m(5)\u001b[0;36mnew\u001b[1;34m()\u001b[0m\n",
      "\n"
     ]
    },
    {
     "name": "stdin",
     "output_type": "stream",
     "text": [
      "ipdb>  p locals()\n"
     ]
    },
    {
     "name": "stdout",
     "output_type": "stream",
     "text": [
      "{'n': 5, 'i': 1}\n"
     ]
    },
    {
     "name": "stdin",
     "output_type": "stream",
     "text": [
      "ipdb>  c\n"
     ]
    },
    {
     "name": "stdout",
     "output_type": "stream",
     "text": [
      "1\n",
      "> \u001b[1;32mc:\\users\\dell\\appdata\\local\\temp\\ipykernel_16616\\2849708231.py\u001b[0m(6)\u001b[0;36mnew\u001b[1;34m()\u001b[0m\n",
      "\n"
     ]
    },
    {
     "name": "stdin",
     "output_type": "stream",
     "text": [
      "ipdb>  c\n"
     ]
    },
    {
     "name": "stdout",
     "output_type": "stream",
     "text": [
      "2\n",
      "> \u001b[1;32mc:\\users\\dell\\appdata\\local\\temp\\ipykernel_16616\\2849708231.py\u001b[0m(5)\u001b[0;36mnew\u001b[1;34m()\u001b[0m\n",
      "\n"
     ]
    },
    {
     "name": "stdin",
     "output_type": "stream",
     "text": [
      "ipdb>  p locals()\n"
     ]
    },
    {
     "name": "stdout",
     "output_type": "stream",
     "text": [
      "{'n': 5, 'i': 3}\n"
     ]
    },
    {
     "name": "stdin",
     "output_type": "stream",
     "text": [
      "ipdb>  list\n"
     ]
    },
    {
     "name": "stdout",
     "output_type": "stream",
     "text": [
      "\u001b[0;32m      1 \u001b[0m\u001b[1;32mimport\u001b[0m \u001b[0mpdb\u001b[0m\u001b[1;33m\u001b[0m\u001b[1;33m\u001b[0m\u001b[0m\n",
      "\u001b[0;32m      2 \u001b[0m\u001b[1;33m\u001b[0m\u001b[0m\n",
      "\u001b[0;32m      3 \u001b[0m\u001b[1;32mdef\u001b[0m \u001b[0mnew\u001b[0m\u001b[1;33m(\u001b[0m\u001b[0mn\u001b[0m\u001b[1;33m)\u001b[0m\u001b[1;33m:\u001b[0m\u001b[1;33m\u001b[0m\u001b[1;33m\u001b[0m\u001b[0m\n",
      "\u001b[0;32m      4 \u001b[0m    \u001b[1;32mfor\u001b[0m \u001b[0mi\u001b[0m \u001b[1;32min\u001b[0m \u001b[0mrange\u001b[0m\u001b[1;33m(\u001b[0m\u001b[0mn\u001b[0m\u001b[1;33m)\u001b[0m\u001b[1;33m:\u001b[0m\u001b[1;33m\u001b[0m\u001b[1;33m\u001b[0m\u001b[0m\n",
      "\u001b[1;32m----> 5 \u001b[1;33m        \u001b[0mpdb\u001b[0m\u001b[1;33m.\u001b[0m\u001b[0mset_trace\u001b[0m\u001b[1;33m(\u001b[0m\u001b[1;33m)\u001b[0m   \u001b[1;31m#breakpoint\u001b[0m\u001b[1;33m\u001b[0m\u001b[1;33m\u001b[0m\u001b[0m\n",
      "\u001b[0m\u001b[0;32m      6 \u001b[0m        \u001b[0mprint\u001b[0m\u001b[1;33m(\u001b[0m\u001b[0mi\u001b[0m\u001b[1;33m)\u001b[0m\u001b[1;33m\u001b[0m\u001b[1;33m\u001b[0m\u001b[0m\n",
      "\u001b[0;32m      7 \u001b[0m    \u001b[1;32mreturn\u001b[0m\u001b[1;33m\u001b[0m\u001b[1;33m\u001b[0m\u001b[0m\n",
      "\u001b[0;32m      8 \u001b[0m\u001b[0mnew\u001b[0m\u001b[1;33m(\u001b[0m\u001b[1;36m5\u001b[0m\u001b[1;33m)\u001b[0m\u001b[1;33m\u001b[0m\u001b[1;33m\u001b[0m\u001b[0m\n",
      "\u001b[0;32m      9 \u001b[0m\u001b[1;33m\u001b[0m\u001b[0m\n",
      "\u001b[0;32m     10 \u001b[0m\u001b[1;33m\u001b[0m\u001b[0m\n",
      "\u001b[0;32m     11 \u001b[0m\"\"\"\n",
      "\n"
     ]
    },
    {
     "name": "stdin",
     "output_type": "stream",
     "text": [
      "ipdb>  h\n"
     ]
    },
    {
     "name": "stdout",
     "output_type": "stream",
     "text": [
      "\n",
      "Documented commands (type help <topic>):\n",
      "========================================\n",
      "EOF    commands   enable    ll        pp       s                until \n",
      "a      condition  exit      longlist  psource  skip_hidden      up    \n",
      "alias  cont       h         n         q        skip_predicates  w     \n",
      "args   context    help      next      quit     source           whatis\n",
      "b      continue   ignore    p         r        step             where \n",
      "break  d          interact  pdef      restart  tbreak         \n",
      "bt     debug      j         pdoc      return   u              \n",
      "c      disable    jump      pfile     retval   unalias        \n",
      "cl     display    l         pinfo     run      undisplay      \n",
      "clear  down       list      pinfo2    rv       unt            \n",
      "\n",
      "Miscellaneous help topics:\n",
      "==========================\n",
      "exec  pdb\n",
      "\n"
     ]
    },
    {
     "name": "stdin",
     "output_type": "stream",
     "text": [
      "ipdb>  c\n"
     ]
    },
    {
     "name": "stdout",
     "output_type": "stream",
     "text": [
      "3\n",
      "> \u001b[1;32mc:\\users\\dell\\appdata\\local\\temp\\ipykernel_16616\\2849708231.py\u001b[0m(6)\u001b[0;36mnew\u001b[1;34m()\u001b[0m\n",
      "\n"
     ]
    },
    {
     "name": "stdin",
     "output_type": "stream",
     "text": [
      "ipdb>  \n",
      "ipdb>  c\n"
     ]
    },
    {
     "name": "stdout",
     "output_type": "stream",
     "text": [
      "4\n"
     ]
    },
    {
     "data": {
      "text/plain": [
       "'\\nc : continue\\nq : quit\\nh : help\\nlist : for checking the current executed line/ where you are in program\\np : print\\np locals()\\np globals()\\n\\n'"
      ]
     },
     "execution_count": 76,
     "metadata": {},
     "output_type": "execute_result"
    }
   ],
   "source": [
    "import pdb\n",
    "\n",
    "def new(n):\n",
    "    for i in range(n):\n",
    "        pdb.set_trace()   #breakpoint\n",
    "        print(i)\n",
    "    return\n",
    "new(5)\n",
    "\n",
    "\n",
    "\"\"\"\n",
    "c : continue\n",
    "q : quit\n",
    "h : help\n",
    "list : for checking the current executed line/ where you are in program\n",
    "p : print \n",
    "p locals()  print all local variable in the scope\n",
    "p globals()\n",
    "\n",
    "\"\"\""
   ]
  },
  {
   "cell_type": "code",
   "execution_count": null,
   "id": "8c4e44b1-e7b7-4a1a-a0ae-8d90edcd5754",
   "metadata": {},
   "outputs": [],
   "source": []
  }
 ],
 "metadata": {
  "kernelspec": {
   "display_name": "Python 3 (ipykernel)",
   "language": "python",
   "name": "python3"
  },
  "language_info": {
   "codemirror_mode": {
    "name": "ipython",
    "version": 3
   },
   "file_extension": ".py",
   "mimetype": "text/x-python",
   "name": "python",
   "nbconvert_exporter": "python",
   "pygments_lexer": "ipython3",
   "version": "3.8.2"
  }
 },
 "nbformat": 4,
 "nbformat_minor": 5
}
